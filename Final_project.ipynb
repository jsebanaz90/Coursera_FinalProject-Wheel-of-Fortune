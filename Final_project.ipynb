{
 "cells": [
  {
   "cell_type": "markdown",
   "metadata": {},
   "source": [
    "The time.sleep(s) function (from the time module) delays execution of the next line of code for s seconds. You’ll find that we can build a little suspense during gameplay with some well-placed delays. The game can also be easier for users to understand if not everything happens instantly."
   ]
  },
  {
   "cell_type": "code",
   "execution_count": 2,
   "metadata": {},
   "outputs": [
    {
     "name": "stdout",
     "output_type": "stream",
     "text": [
      "Sleep 2 seconds..\n",
      "Sleep 3 seconds..\n",
      "Sleep 4 seconds..\n",
      "Sleep 5 seconds..\n",
      "Done!\n"
     ]
    }
   ],
   "source": [
    "import time\n",
    "\n",
    "for x in range(2, 6):\n",
    "    print('Sleep {} seconds..'.format(x))\n",
    "    time.sleep(x) # \"Sleep\" for x seconds\n",
    "print('Done!')"
   ]
  },
  {
   "cell_type": "markdown",
   "metadata": {},
   "source": [
    "The random module includes several useful methods for generating and using random numbers, including:\n",
    "\n",
    "- random.randint(min, max) generates a random number between min and max (inclusive)\n",
    "\n",
    "- random.choice(L) selects a random item from the list L"
   ]
  },
  {
   "cell_type": "code",
   "execution_count": 8,
   "metadata": {},
   "outputs": [
    {
     "name": "stdout",
     "output_type": "stream",
     "text": [
      "Random number between 1 and 10: 5\n",
      "Random letter: T\n"
     ]
    }
   ],
   "source": [
    "import random\n",
    "\n",
    "rand_number = random.randint(1, 10)\n",
    "print('Random number between 1 and 10: {}'.format(rand_number))\n",
    "\n",
    "letters = [letter for letter in 'ABCDEFGHIJKLMNOPQRSTUVWXYZ']\n",
    "rand_letter = random.choice(letters)\n",
    "print('Random letter: {}'.format(rand_letter))\n"
   ]
  },
  {
   "cell_type": "markdown",
   "metadata": {},
   "source": [
    "There are also several string methods that we haven’t gone over in detail but will use for this project:\n",
    "\n",
    "- .upper() converts a string to uppercase (the opposite is .lower())\n",
    "- .count(s) counts how many times the string s occurs inside of a larger string\n"
   ]
  },
  {
   "cell_type": "code",
   "execution_count": 9,
   "metadata": {},
   "outputs": [
    {
     "name": "stdout",
     "output_type": "stream",
     "text": [
      "HELLO, WORLD! 123\n",
      "hello, world! 123\n",
      "3\n",
      "2\n"
     ]
    }
   ],
   "source": [
    "myString = 'Hello, World! 123'\n",
    "\n",
    "print(myString.upper()) # HELLO, WORLD! 123\n",
    "print(myString.lower()) # hello, world! 123\n",
    "print(myString.count('l')) # 3\n",
    "\n",
    "s = 'python is pythonic'\n",
    "print(s.count('python')) # 2"
   ]
  },
  {
   "cell_type": "markdown",
   "metadata": {},
   "source": [
    "We’re going to define a few useful methods for you: \n",
    "\n",
    "- getNumberBetween(prompt, min, max)) repeatedly asks the user for a number between min and max with the prompt prompt \n",
    "- spinWheel() simulates spinning the wheel and returns a dictionary with a random prize \n",
    "- getRandomCategoryAndPhrase() returns a tuple with a random category and phrase for players to guess \n",
    "- obscurePhrase(phrase, guessed) Given a phrase and a list of guessed letters, returns an obscured version"
   ]
  },
  {
   "cell_type": "code",
   "execution_count": 10,
   "metadata": {},
   "outputs": [
    {
     "ename": "FileNotFoundError",
     "evalue": "[Errno 2] No such file or directory: 'phrases.json'",
     "output_type": "error",
     "traceback": [
      "\u001b[1;31m---------------------------------------------------------------------------\u001b[0m",
      "\u001b[1;31mFileNotFoundError\u001b[0m                         Traceback (most recent call last)",
      "\u001b[1;32m<ipython-input-10-2e74fd550a4a>\u001b[0m in \u001b[0;36m<module>\u001b[1;34m()\u001b[0m\n\u001b[0;32m     67\u001b[0m Guessed:  {}\"\"\".format(category, obscuredPhrase, ', '.join(sorted(guessed)))\n\u001b[0;32m     68\u001b[0m \u001b[1;33m\u001b[0m\u001b[0m\n\u001b[1;32m---> 69\u001b[1;33m \u001b[0mcategory\u001b[0m\u001b[1;33m,\u001b[0m \u001b[0mphrase\u001b[0m \u001b[1;33m=\u001b[0m \u001b[0mgetRandomCategoryAndPhrase\u001b[0m\u001b[1;33m(\u001b[0m\u001b[1;33m)\u001b[0m\u001b[1;33m\u001b[0m\u001b[0m\n\u001b[0m\u001b[0;32m     70\u001b[0m \u001b[1;33m\u001b[0m\u001b[0m\n\u001b[0;32m     71\u001b[0m \u001b[0mguessed\u001b[0m \u001b[1;33m=\u001b[0m \u001b[1;33m[\u001b[0m\u001b[1;33m]\u001b[0m\u001b[1;33m\u001b[0m\u001b[0m\n",
      "\u001b[1;32m<ipython-input-10-2e74fd550a4a>\u001b[0m in \u001b[0;36mgetRandomCategoryAndPhrase\u001b[1;34m()\u001b[0m\n\u001b[0;32m     39\u001b[0m \u001b[1;31m#     (\"Artist & Song\", \"Whitney Houston's I Will Always Love You\")\u001b[0m\u001b[1;33m\u001b[0m\u001b[1;33m\u001b[0m\u001b[0m\n\u001b[0;32m     40\u001b[0m \u001b[1;32mdef\u001b[0m \u001b[0mgetRandomCategoryAndPhrase\u001b[0m\u001b[1;33m(\u001b[0m\u001b[1;33m)\u001b[0m\u001b[1;33m:\u001b[0m\u001b[1;33m\u001b[0m\u001b[0m\n\u001b[1;32m---> 41\u001b[1;33m     \u001b[1;32mwith\u001b[0m \u001b[0mopen\u001b[0m\u001b[1;33m(\u001b[0m\u001b[1;34m\"phrases.json\"\u001b[0m\u001b[1;33m,\u001b[0m \u001b[1;34m'r'\u001b[0m\u001b[1;33m)\u001b[0m \u001b[1;32mas\u001b[0m \u001b[0mf\u001b[0m\u001b[1;33m:\u001b[0m\u001b[1;33m\u001b[0m\u001b[0m\n\u001b[0m\u001b[0;32m     42\u001b[0m         \u001b[0mphrases\u001b[0m \u001b[1;33m=\u001b[0m \u001b[0mjson\u001b[0m\u001b[1;33m.\u001b[0m\u001b[0mloads\u001b[0m\u001b[1;33m(\u001b[0m\u001b[0mf\u001b[0m\u001b[1;33m.\u001b[0m\u001b[0mread\u001b[0m\u001b[1;33m(\u001b[0m\u001b[1;33m)\u001b[0m\u001b[1;33m)\u001b[0m\u001b[1;33m\u001b[0m\u001b[0m\n\u001b[0;32m     43\u001b[0m \u001b[1;33m\u001b[0m\u001b[0m\n",
      "\u001b[1;31mFileNotFoundError\u001b[0m: [Errno 2] No such file or directory: 'phrases.json'"
     ]
    }
   ],
   "source": [
    "import json\n",
    "import random\n",
    "import time\n",
    "\n",
    "LETTERS = 'ABCDEFGHIJKLMNOPQRSTUVWXYZ'\n",
    "\n",
    "# Repeatedly asks the user for a number between min & max (inclusive)\n",
    "def getNumberBetween(prompt, min, max):\n",
    "    userinp = input(prompt) # ask the first time\n",
    "\n",
    "    while True:\n",
    "        try:\n",
    "            n = int(userinp) # try casting to an integer\n",
    "            if n < min:\n",
    "                errmessage = 'Must be at least {}'.format(min)\n",
    "            elif n > max:\n",
    "                errmessage = 'Must be at most {}'.format(max)\n",
    "            else:\n",
    "                return n\n",
    "        except ValueError: # The user didn't enter a number\n",
    "            errmessage = '{} is not a number.'.format(userinp)\n",
    "\n",
    "        # If we haven't gotten a number yet, add the error message\n",
    "        # and ask again\n",
    "        userinp = input('{}\\n{}'.format(errmessage, prompt))\n",
    "\n",
    "# Spins the wheel of fortune wheel to give a random prize\n",
    "# Examples:\n",
    "#    { \"type\": \"cash\", \"text\": \"$950\", \"value\": 950, \"prize\": \"A trip to Ann Arbor!\" },\n",
    "#    { \"type\": \"bankrupt\", \"text\": \"Bankrupt\", \"prize\": false },\n",
    "#    { \"type\": \"loseturn\", \"text\": \"Lose a turn\", \"prize\": false }\n",
    "def spinWheel():\n",
    "    with open(\"wheel.json\", 'r') as f:\n",
    "        wheel = json.loads(f.read())\n",
    "        return random.choice(wheel)\n",
    "\n",
    "# Returns a category & phrase (as a tuple) to guess\n",
    "# Example:\n",
    "#     (\"Artist & Song\", \"Whitney Houston's I Will Always Love You\")\n",
    "def getRandomCategoryAndPhrase():\n",
    "    with open(\"phrases.json\", 'r') as f:\n",
    "        phrases = json.loads(f.read())\n",
    "\n",
    "        category = random.choice(list(phrases.keys()))\n",
    "        phrase   = random.choice(phrases[category])\n",
    "        return (category, phrase.upper())\n",
    "\n",
    "# Given a phrase and a list of guessed letters, returns an obscured version\n",
    "# Example:\n",
    "#     guessed: ['L', 'B', 'E', 'R', 'N', 'P', 'K', 'X', 'Z']\n",
    "#     phrase:  \"GLACIER NATIONAL PARK\"\n",
    "#     returns> \"_L___ER N____N_L P_RK\"\n",
    "def obscurePhrase(phrase, guessed):\n",
    "    rv = ''\n",
    "    for s in phrase:\n",
    "        if (s in LETTERS) and (s not in guessed):\n",
    "            rv = rv+'_'\n",
    "        else:\n",
    "            rv = rv+s\n",
    "    return rv\n",
    "\n",
    "# Returns a string representing the current state of the game\n",
    "def showBoard(category, obscuredPhrase, guessed):\n",
    "    return \"\"\"\n",
    "Category: {}\n",
    "Phrase:   {}\n",
    "Guessed:  {}\"\"\".format(category, obscuredPhrase, ', '.join(sorted(guessed)))\n",
    "\n",
    "category, phrase = getRandomCategoryAndPhrase()\n",
    "\n",
    "guessed = []\n",
    "for x in range(random.randint(10, 20)):\n",
    "    randomLetter = random.choice(LETTERS)\n",
    "    if randomLetter not in guessed:\n",
    "        guessed.append(randomLetter)\n",
    "\n",
    "print(\"getRandomCategoryAndPhrase()\\n -> ('{}', '{}')\".format(category, phrase))\n",
    "\n",
    "print(\"\\n{}\\n\".format(\"-\"*5))\n",
    "\n",
    "print(\"obscurePhrase('{}', [{}])\\n -> {}\".format(phrase, ', '.join([\"'{}'\".format(c) for c in guessed]), obscurePhrase(phrase, guessed)))\n",
    "\n",
    "print(\"\\n{}\\n\".format(\"-\"*5))\n",
    "\n",
    "obscured_phrase = obscurePhrase(phrase, guessed)\n",
    "print(\"showBoard('{}', '{}', [{}])\\n -> {}\".format(phrase, obscured_phrase, ','.join([\"'{}'\".format(c) for c in guessed]), showBoard(phrase, obscured_phrase, guessed)))\n",
    "\n",
    "print(\"\\n{}\\n\".format(\"-\"*5))\n",
    "\n",
    "num_times_to_spin = random.randint(2, 5)\n",
    "print('Spinning the wheel {} times (normally this would just be done once per turn)'.format(num_times_to_spin))\n",
    "\n",
    "for x in range(num_times_to_spin):\n",
    "    print(\"\\n{}\\n\".format(\"-\"*2))\n",
    "    print(\"spinWheel()\")\n",
    "    print(spinWheel())\n",
    "\n",
    "\n",
    "print(\"\\n{}\\n\".format(\"-\"*5))\n",
    "\n",
    "print(\"In 2 seconds, will run getNumberBetween('Testing getNumberBetween(). Enter a number between 1 and 10', 1, 10)\")\n",
    "\n",
    "time.sleep(2)\n",
    "\n",
    "print(getNumberBetween('Testing getNumberBetween(). Enter a number between 1 and 10', 1, 10))\n"
   ]
  },
  {
   "cell_type": "code",
   "execution_count": 11,
   "metadata": {},
   "outputs": [],
   "source": [
    "VOWEL_COST = 250\n",
    "LETTERS = 'ABCDEFGHIJKLMNOPQRSTUVWXYZ'\n",
    "VOWELS = 'AEIOU'\n",
    "\n",
    "# Write the WOFPlayer class definition (part A) here\n",
    "class WOFPlayer:\n",
    "    \n",
    "    def __init__(self,name):\n",
    "        self.name = name\n",
    "        self.prizeMoney = 0\n",
    "        self.prizes = []\n",
    "        \n",
    "    def addMoney(self,amt):\n",
    "        self.prizeMoney = self.prizeMoney + amt\n",
    "    \n",
    "    def goBankrupt(self):\n",
    "        self.prizeMoney = 0\n",
    "    \n",
    "    def addPrize(self,prize):\n",
    "        self.prizes.append(prize)\n",
    "    \n",
    "    def __str__(self):\n",
    "        return \"{} (${})\".forma(self.name, self.prizeMoney)\n",
    "# Write the WOFHumanPlayer class definition (part B) here\n",
    "\n",
    "# Write the WOFComputerPlayer class definition (part C) here\n",
    "\n"
   ]
  },
  {
   "cell_type": "code",
   "execution_count": null,
   "metadata": {},
   "outputs": [],
   "source": []
  }
 ],
 "metadata": {
  "kernelspec": {
   "display_name": "Python 3",
   "language": "python",
   "name": "python3"
  },
  "language_info": {
   "codemirror_mode": {
    "name": "ipython",
    "version": 3
   },
   "file_extension": ".py",
   "mimetype": "text/x-python",
   "name": "python",
   "nbconvert_exporter": "python",
   "pygments_lexer": "ipython3",
   "version": "3.6.3"
  }
 },
 "nbformat": 4,
 "nbformat_minor": 2
}
